{
 "cells": [
  {
   "cell_type": "code",
   "execution_count": 2,
   "metadata": {},
   "outputs": [
    {
     "name": "stdout",
     "output_type": "stream",
     "text": [
      "\n",
      " The Given Training Data Set \n",
      "\n",
      "['sunny', 'warm', 'normal', 'strong', 'warm', 'same', 'Y']\n",
      "['sunny', 'warm', 'high', 'strong', 'warm', 'same', 'Y']\n",
      "['rainy', 'cold', 'high', 'strong', 'warm', 'change', 'N']\n",
      "['sunny', 'warm', 'high', 'strong', 'cool', 'change', 'Y']\n",
      "\n",
      " The initial value of hypothesis: \n",
      "\n",
      " The most specific hypothesis S0 : [0,0,0,0,0,0]\n",
      "\n",
      " \n",
      " The most general hypothesis G0 : [?,?,?,?,?,?]\n",
      "\n",
      "\n",
      " Candidate Elimination algorithm  Hypotheses Version Space Computation\n",
      "\n",
      " For Training Example No :1 the hypothesis is S1 ['sunny', 'warm', 'normal', 'strong', 'warm', 'same']\n",
      " For Training Example No :1 the hypothesis is G1 ['?', '?', '?', '?', '?', '?']\n",
      " For Training Example No :2 the hypothesis is S2 ['sunny', 'warm', '?', 'strong', 'warm', 'same']\n",
      " For Training Example No :2 the hypothesis is G2 ['?', '?', '?', '?', '?', '?']\n",
      " For Training Example No :3 the hypothesis is S3  ['sunny', 'warm', '?', 'strong', 'warm', 'same']\n",
      " For Training Example No :3 the hypothesis is G3 [['sunny', '?', '?', '?', '?', '?'], ['?', 'warm', '?', '?', '?', '?'], ['?', '?', '?', '?', '?', 'same']]\n",
      " For Training Example No :4 the hypothesis is S4 ['sunny', 'warm', '?', 'strong', '?', '?']\n",
      " For Training Example No :4 the hypothesis is G4 [['sunny', '?', '?', '?', '?', '?'], ['?', 'warm', '?', '?', '?', '?']]\n"
     ]
    }
   ],
   "source": [
    "import csv\n",
    "a = []\n",
    "print(\"\\n The Given Training Data Set \\n\")\n",
    "\n",
    "with open('train2.csv', 'r') as csvFile:\n",
    "    rd = csv.reader(csvFile)\n",
    "\n",
    "    for row in rd:\n",
    "        a.append(row)\n",
    "        print(row)\n",
    "num_attributes = len(a[0])-1\n",
    "\n",
    "print(\"\\n The initial value of hypothesis: \")\n",
    "S = ['0'] * num_attributes\n",
    "G = ['?'] * num_attributes\n",
    "print (\"\\n The most specific hypothesis S0 : [0,0,0,0,0,0]\\n\")\n",
    "print (\" \\n The most general hypothesis G0 : [?,?,?,?,?,?]\\n\")\n",
    "\n",
    "# Comparing with First Training Example \n",
    "for j in range(num_attributes):\n",
    "       S[j] = a[0][j];\n",
    "\n",
    "# Comparing with Remaining Training Examples of Given Data Set\n",
    "\n",
    "print(\"\\n Candidate Elimination algorithm  Hypotheses Version Space Computation\\n\")\n",
    "temp=[]\n",
    "\n",
    "for i in range(len(a)):\n",
    "    if a[i][num_attributes]=='Y':\n",
    "        for j in range(0,num_attributes):\n",
    "            if a[i][j]!=S[j]:\n",
    "                S[j]='?'\n",
    "                           \n",
    "       \n",
    "        for k  in range(len(temp)):\n",
    "             for j in range(num_attributes):\n",
    "                if temp[k][j]!= '?' and temp[k][j] !=S[j]:\n",
    "                    del temp[k]\n",
    "        \n",
    "        print(\" For Training Example No :{0} the hypothesis is S{0}\".format(i+1),S)\n",
    "        if (len(temp)==0):\n",
    "            print(\" For Training Example No :{0} the hypothesis is G{0}\".format(i+1),G)\n",
    "        else:    \n",
    "            print(\" For Training Example No :{0} the hypothesis is G{0}\".format(i+1),temp)\n",
    "    \n",
    "    if a[i][num_attributes]=='N':\n",
    "        for j in range(num_attributes):\n",
    "             if S[j] != a[i][j] and S[j]!= '?':\n",
    "                G[j]=S[j]\n",
    "                temp.append(G)\n",
    "                G = ['?'] * num_attributes\n",
    "                 \n",
    "        print(\" For Training Example No :{0} the hypothesis is S{0} \".format(i+1),S)\n",
    "        print(\" For Training Example No :{0} the hypothesis is G{0}\".format(i+1),temp)"
   ]
  },
  {
   "cell_type": "code",
   "execution_count": null,
   "metadata": {},
   "outputs": [],
   "source": []
  }
 ],
 "metadata": {
  "kernelspec": {
   "display_name": "Python 3",
   "language": "python",
   "name": "python3"
  },
  "language_info": {
   "codemirror_mode": {
    "name": "ipython",
    "version": 3
   },
   "file_extension": ".py",
   "mimetype": "text/x-python",
   "name": "python",
   "nbconvert_exporter": "python",
   "pygments_lexer": "ipython3",
   "version": "3.5.6"
  }
 },
 "nbformat": 4,
 "nbformat_minor": 2
}
