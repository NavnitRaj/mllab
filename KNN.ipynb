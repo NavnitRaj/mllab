{
 "cells": [
  {
   "cell_type": "code",
   "execution_count": 2,
   "metadata": {},
   "outputs": [
    {
     "name": "stdout",
     "output_type": "stream",
     "text": [
      "0.9833333333333333\n",
      "setosa   setosa\n",
      "versicolor   versicolor\n",
      "versicolor   versicolor\n",
      "setosa   setosa\n",
      "virginica   virginica\n",
      "versicolor   versicolor\n",
      "virginica   virginica\n",
      "setosa   setosa\n",
      "setosa   setosa\n",
      "virginica   virginica\n",
      "versicolor   versicolor\n",
      "setosa   setosa\n",
      "virginica   virginica\n",
      "versicolor   versicolor\n",
      "versicolor   versicolor\n",
      "setosa   setosa\n",
      "versicolor   versicolor\n",
      "versicolor   versicolor\n",
      "setosa   setosa\n",
      "setosa   setosa\n",
      "versicolor   versicolor\n",
      "versicolor   versicolor\n",
      "versicolor   versicolor\n",
      "setosa   setosa\n",
      "virginica   virginica\n",
      "versicolor   versicolor\n",
      "setosa   setosa\n",
      "setosa   setosa\n",
      "versicolor   versicolor\n",
      "virginica   virginica\n",
      "versicolor   versicolor\n",
      "virginica   virginica\n",
      "versicolor   versicolor\n",
      "virginica   virginica\n",
      "virginica   virginica\n",
      "setosa   setosa\n",
      "versicolor   versicolor\n",
      "setosa   setosa\n",
      "versicolor   versicolor\n",
      "virginica   virginica\n",
      "virginica   virginica\n",
      "setosa   setosa\n",
      "virginica   versicolor\n",
      "virginica   virginica\n",
      "versicolor   versicolor\n",
      "virginica   virginica\n",
      "setosa   setosa\n",
      "setosa   setosa\n",
      "setosa   setosa\n",
      "versicolor   versicolor\n",
      "setosa   setosa\n",
      "setosa   setosa\n",
      "virginica   virginica\n",
      "virginica   virginica\n",
      "virginica   virginica\n",
      "virginica   virginica\n",
      "virginica   virginica\n",
      "versicolor   versicolor\n",
      "virginica   virginica\n",
      "versicolor   versicolor\n"
     ]
    }
   ],
   "source": [
    "from sklearn.datasets import load_iris\n",
    "from sklearn.neighbors import KNeighborsClassifier\n",
    "from sklearn.model_selection import train_test_split\n",
    "from sklearn import metrics\n",
    "iris=load_iris()\n",
    "x=iris.data\n",
    "y=iris.target\n",
    "xtarin,xtest,ytrain,ytest=train_test_split(x,y,test_size=0.4,random_state=1)\n",
    "knn=KNeighborsClassifier(n_neighbors=5)\n",
    "knn.fit(xtarin,ytrain)\n",
    "pred=knn.predict(xtest)\n",
    "ytestn=[iris.target_names[i] for i in ytest]\n",
    "predn=[iris.target_names[i] for i in pred]\n",
    "print(metrics.accuracy_score(ytest,pred))\n",
    "for i in range (len(pred)):\n",
    "    print(ytestn[i],\" \",predn[i])"
   ]
  },
  {
   "cell_type": "code",
   "execution_count": null,
   "metadata": {},
   "outputs": [],
   "source": []
  }
 ],
 "metadata": {
  "kernelspec": {
   "display_name": "Python 3",
   "language": "python",
   "name": "python3"
  },
  "language_info": {
   "codemirror_mode": {
    "name": "ipython",
    "version": 3
   },
   "file_extension": ".py",
   "mimetype": "text/x-python",
   "name": "python",
   "nbconvert_exporter": "python",
   "pygments_lexer": "ipython3",
   "version": "3.6.5"
  }
 },
 "nbformat": 4,
 "nbformat_minor": 2
}
