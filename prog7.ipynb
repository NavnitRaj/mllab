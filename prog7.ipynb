{
 "cells": [
  {
   "cell_type": "code",
   "execution_count": 2,
   "metadata": {},
   "outputs": [
    {
     "name": "stdout",
     "output_type": "stream",
     "text": [
      "╒════════════════╤═════════════════════╕\n",
      "│ heartdisease   │   phi(heartdisease) │\n",
      "╞════════════════╪═════════════════════╡\n",
      "│ heartdisease_0 │              0.4919 │\n",
      "├────────────────┼─────────────────────┤\n",
      "│ heartdisease_1 │              0.5081 │\n",
      "╘════════════════╧═════════════════════╛\n",
      "╒════════════════╤═════════════════════╕\n",
      "│ heartdisease   │   phi(heartdisease) │\n",
      "╞════════════════╪═════════════════════╡\n",
      "│ heartdisease_0 │              0.2500 │\n",
      "├────────────────┼─────────────────────┤\n",
      "│ heartdisease_1 │              0.7500 │\n",
      "╘════════════════╧═════════════════════╛\n"
     ]
    }
   ],
   "source": [
    "import numpy as np\n",
    "import pandas as pd\n",
    "import csv\n",
    "from pgmpy.estimators import MaximumLikelihoodEstimator\n",
    "from pgmpy.models import BayesianModel\n",
    "from pgmpy.inference import VariableElimination\n",
    "from urllib.request import urlopen\n",
    "URL = 'http://archive.ics.uci.edu/ml/machine-learning-databases/heart-disease/processed.hungarian.data'\n",
    "names=['age','sex','cp','trestbps','chol','fbs','restecg','thalach','exang','n1','n2','n3','n4','heartdisease']\n",
    "heartDisease = pd.read_csv(urlopen(URL),names=names)\n",
    "heartDisease=heartDisease.replace('?',np.nan)\n",
    "model = BayesianModel([('age', 'trestbps'), ('age', 'fbs'), ('sex', 'trestbps'), \n",
    "                           ('exang', 'trestbps'),('trestbps','heartdisease'),('fbs','heartdisease'),\n",
    "                          ('heartdisease','restecg'),('heartdisease','thalach'),('heartdisease','chol')])\n",
    "model.fit(heartDisease, estimator=MaximumLikelihoodEstimator)\n",
    "HeartDisease_infer = VariableElimination(model)\n",
    "q = HeartDisease_infer.query(variables=['heartdisease'], evidence={'age': 28})\n",
    "print(q['heartdisease'])\n",
    "q = HeartDisease_infer.query(variables=['heartdisease'], evidence={'chol': 100})\n",
    "print(q['heartdisease'])"
   ]
  },
  {
   "cell_type": "code",
   "execution_count": null,
   "metadata": {},
   "outputs": [],
   "source": []
  }
 ],
 "metadata": {
  "kernelspec": {
   "display_name": "Python 3",
   "language": "python",
   "name": "python3"
  },
  "language_info": {
   "codemirror_mode": {
    "name": "ipython",
    "version": 3
   },
   "file_extension": ".py",
   "mimetype": "text/x-python",
   "name": "python",
   "nbconvert_exporter": "python",
   "pygments_lexer": "ipython3",
   "version": "3.5.6"
  }
 },
 "nbformat": 4,
 "nbformat_minor": 2
}
