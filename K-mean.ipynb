{
 "cells": [
  {
   "cell_type": "code",
   "execution_count": null,
   "metadata": {},
   "outputs": [],
   "source": [
    "import numpy as np\n",
    "import pandas as pd\n",
    "import sklearn.metrics as sm\n",
    "from sklearn.datasets import load_iris\n",
    "from sklearn.cluster import KMeans\n",
    "from sklearn.mixture import GaussianMixture\n",
    "import matplotlib.pyplot as plt\n",
    "from sklearn import preprocessing"
   ]
  },
  {
   "cell_type": "code",
   "execution_count": null,
   "metadata": {},
   "outputs": [],
   "source": [
    "iris=load_iris()\n",
    "x=pd.DataFrame(iris.data)\n",
    "y=pd.DataFrame(iris.target)\n",
    "x.columns=['s_len','s_wid','p_len','p_wid']\n",
    "y.columns=['target']\n",
    "\n",
    "model=KMeans(n_clusters=3)\n",
    "model.fit(x)\n",
    "\n",
    "pred=np.choose(model.labels_,[0,1,2]).astype(np.int64)\n",
    "\n",
    "scaler=preprocessing.StandardScaler()\n",
    "scaler.fit(x)\n",
    "xsa=scaler.transform(x)\n",
    "xs=pd.DataFrame(xsa,columns=x.columns)\n",
    "gmm=GaussianMixture(n_components=3)\n",
    "gmm.fit(xs)\n",
    "y_pred=gmm.predict(xs)"
   ]
  },
  {
   "cell_type": "code",
   "execution_count": null,
   "metadata": {},
   "outputs": [],
   "source": [
    "plt.figure(figsize=(20,10))\n",
    "colormap=np.array(['red','lime','black'])\n",
    "plt.subplot(1,2,1)\n",
    "plt.scatter(x.s_len,x.s_wid,c=colormap[y.target],s=30)\n",
    "plt.title('sapel')\n",
    "plt.subplot(1,2,2)\n",
    "plt.scatter(x.p_len,x.p_wid,c=colormap[y.target],s=30)\n",
    "plt.title('petal')\n",
    "\n",
    "plt.figure(figsize=(20,10))\n",
    "colormap=np.array(['red','lime','black'])\n",
    "plt.subplot(1,2,1)\n",
    "plt.scatter(x.s_len,x.s_wid,c=colormap[y.target],s=30)\n",
    "plt.title('Real')\n",
    "plt.subplot(1,2,2)\n",
    "plt.scatter(x.p_len,x.p_wid,c=colormap[model.labels_],s=30)\n",
    "plt.title('Kmeans')\n",
    "\n",
    "plt.figure(figsize=(20,10))\n",
    "colormap=np.array(['red','lime','black'])\n",
    "plt.subplot(1,2,1)\n",
    "plt.scatter(x.s_len,x.s_wid,c=colormap[y.target],s=30)\n",
    "plt.title('Real')\n",
    "plt.subplot(1,2,2)\n",
    "plt.scatter(x.p_len,x.p_wid,c=colormap[pred],s=30)\n",
    "plt.title('Kmeans pred')\n",
    "\n",
    "plt.figure(figsize=(20,10))\n",
    "colormap=np.array(['red','lime','black'])\n",
    "plt.subplot(1,2,1)\n",
    "plt.scatter(x.s_len,x.s_wid,c=colormap[y.target],s=30)\n",
    "plt.title('Real')\n",
    "plt.subplot(1,2,2)\n",
    "plt.scatter(x.p_len,x.p_wid,c=colormap[y_pred],s=30)\n",
    "plt.title('GMM')"
   ]
  },
  {
   "cell_type": "code",
   "execution_count": null,
   "metadata": {},
   "outputs": [],
   "source": [
    "sm.accuracy_score(y,model.labels_)"
   ]
  },
  {
   "cell_type": "code",
   "execution_count": null,
   "metadata": {},
   "outputs": [],
   "source": [
    "sm.accuracy_score(y,y_pred)"
   ]
  },
  {
   "cell_type": "code",
   "execution_count": null,
   "metadata": {},
   "outputs": [],
   "source": [
    "sm.confusion_matrix(y,model.labels_)"
   ]
  },
  {
   "cell_type": "code",
   "execution_count": null,
   "metadata": {},
   "outputs": [],
   "source": [
    "sm.confusion_matrix(y,y_pred)"
   ]
  },
  {
   "cell_type": "code",
   "execution_count": null,
   "metadata": {},
   "outputs": [],
   "source": []
  }
 ],
 "metadata": {
  "kernelspec": {
   "display_name": "Python 3",
   "language": "python",
   "name": "python3"
  },
  "language_info": {
   "codemirror_mode": {
    "name": "ipython",
    "version": 3
   },
   "file_extension": ".py",
   "mimetype": "text/x-python",
   "name": "python",
   "nbconvert_exporter": "python",
   "pygments_lexer": "ipython3",
   "version": "3.5.6"
  }
 },
 "nbformat": 4,
 "nbformat_minor": 2
}
