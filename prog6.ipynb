{
 "cells": [
  {
   "cell_type": "code",
   "execution_count": null,
   "metadata": {},
   "outputs": [],
   "source": [
    "    import pandas as pd\n",
    "    from sklearn.model_selection import train_test_split\n",
    "    from sklearn.feature_extraction.text import CountVectorizer\n",
    "    from sklearn.naive_bayes import MultinomialNB\n",
    "    from sklearn import metrics"
   ]
  },
  {
   "cell_type": "code",
   "execution_count": null,
   "metadata": {},
   "outputs": [],
   "source": [
    "    msg=pd.read_csv('data6.csv',names=['message','label'])\n",
    "    print('Total instances in the dataset:',msg.shape[0])\n",
    "    msg['labelnum']=msg.label.map({'pos':1,'neg':0})\n",
    "    X=msg.message\n",
    "    Y=msg.labelnum\n",
    "    print('\\nThe message and its label of first 5 instances are listed below')\n",
    "    X5, Y5 = X[0:5], msg.label[0:5]\n",
    "    for x, y in zip(X5,Y5):\n",
    "        print(x,',',y)"
   ]
  },
  {
   "cell_type": "code",
   "execution_count": null,
   "metadata": {},
   "outputs": [],
   "source": [
    "    xtrain,xtest,ytrain,ytest=train_test_split(X,Y)\n",
    "    print('\\nDataset is split into Training and Testing samples')\n",
    "    print('Total training instances :', xtrain.shape[0])\n",
    "    print('Total testing  instances :', xtest.shape[0])"
   ]
  },
  {
   "cell_type": "code",
   "execution_count": null,
   "metadata": {},
   "outputs": [],
   "source": [
    "    count_vect = CountVectorizer()\n",
    "    xtrain_dtm = count_vect.fit_transform(xtrain) \n",
    "    xtest_dtm  = count_vect.transform(xtest)\n",
    "    print('\\nTotal features extracted using CountVectorizer:',xtrain_dtm.shape[1])\n",
    "    print('\\nFeatures for first 5 training instances are listed below')"
   ]
  },
  {
   "cell_type": "code",
   "execution_count": null,
   "metadata": {},
   "outputs": [],
   "source": [
    "    df=pd.DataFrame(xtrain_dtm.toarray(),columns=count_vect.get_feature_names())\n",
    "    print(df[0:5])"
   ]
  },
  {
   "cell_type": "code",
   "execution_count": null,
   "metadata": {},
   "outputs": [],
   "source": [
    "    clf = MultinomialNB().fit(xtrain_dtm,ytrain)\n",
    "    predicted = clf.predict(xtest_dtm)\n",
    "    print('\\nClassstification results of testing samples are given below') "
   ]
  },
  {
   "cell_type": "code",
   "execution_count": null,
   "metadata": {},
   "outputs": [],
   "source": [
    "    for doc, p in zip(xtest, predicted):\n",
    "       pred = 'pos' if p==1 else 'neg'\n",
    "       print('%s -> %s ' % (doc, pred))"
   ]
  },
  {
   "cell_type": "code",
   "execution_count": null,
   "metadata": {},
   "outputs": [],
   "source": [
    "    \n",
    "    print('\\nAccuracy metrics')\n",
    "    print('Accuracy of the classifer is',metrics.accuracy_score(ytest,predicted))\n",
    "    print('Recall   :',metrics.recall_score(ytest,predicted),\n",
    "             '\\nPrecison :',metrics.precision_score(ytest,predicted))\n",
    "    print('Confusion matrix')\n",
    "    print(metrics.confusion_matrix(ytest,predicted))"
   ]
  },
  {
   "cell_type": "code",
   "execution_count": null,
   "metadata": {},
   "outputs": [],
   "source": []
  }
 ],
 "metadata": {
  "kernelspec": {
   "display_name": "Python 3",
   "language": "python",
   "name": "python3"
  },
  "language_info": {
   "codemirror_mode": {
    "name": "ipython",
    "version": 3
   },
   "file_extension": ".py",
   "mimetype": "text/x-python",
   "name": "python",
   "nbconvert_exporter": "python",
   "pygments_lexer": "ipython3",
   "version": "3.5.6"
  }
 },
 "nbformat": 4,
 "nbformat_minor": 2
}
