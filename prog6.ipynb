{
 "cells": [
  {
   "cell_type": "code",
   "execution_count": 12,
   "metadata": {},
   "outputs": [],
   "source": [
    "    import pandas as pd\n",
    "    from sklearn.model_selection import train_test_split\n",
    "    from sklearn.feature_extraction.text import CountVectorizer\n",
    "    from sklearn.naive_bayes import MultinomialNB\n",
    "    from sklearn import metrics"
   ]
  },
  {
   "cell_type": "code",
   "execution_count": 13,
   "metadata": {},
   "outputs": [
    {
     "name": "stdout",
     "output_type": "stream",
     "text": [
      "Total instances in the dataset: 18\n",
      "\n",
      "The message and its label of first 5 instances are listed below\n",
      "I love this sandwich , pos\n",
      "This is an amazing place , pos\n",
      "I feel very good about these beers , pos\n",
      "This is my best work , pos\n",
      "What an awesome view , pos\n"
     ]
    }
   ],
   "source": [
    "    msg=pd.read_csv('data6.csv',names=['message','label'])\n",
    "    print('Total instances in the dataset:',msg.shape[0])\n",
    "    msg['labelnum']=msg.label.map({'pos':1,'neg':0})\n",
    "    X=msg.message\n",
    "    Y=msg.labelnum\n",
    "    print('\\nThe message and its label of first 5 instances are listed below')\n",
    "    X5, Y5 = X[0:5], msg.label[0:5]\n",
    "    for x, y in zip(X5,Y5):\n",
    "        print(x,',',y)"
   ]
  },
  {
   "cell_type": "code",
   "execution_count": 14,
   "metadata": {},
   "outputs": [
    {
     "name": "stdout",
     "output_type": "stream",
     "text": [
      "\n",
      "Dataset is split into Training and Testing samples\n",
      "Total training instances : 13\n",
      "Total testing  instances : 5\n"
     ]
    }
   ],
   "source": [
    "    xtrain,xtest,ytrain,ytest=train_test_split(X,Y)\n",
    "    print('\\nDataset is split into Training and Testing samples')\n",
    "    print('Total training instances :', xtrain.shape[0])\n",
    "    print('Total testing  instances :', xtest.shape[0])"
   ]
  },
  {
   "cell_type": "code",
   "execution_count": 15,
   "metadata": {},
   "outputs": [
    {
     "name": "stdout",
     "output_type": "stream",
     "text": [
      "\n",
      "Total features extracted using CountVectorizer: 43\n",
      "\n",
      "Features for first 5 training instances are listed below\n"
     ]
    }
   ],
   "source": [
    "    count_vect = CountVectorizer()\n",
    "    xtrain_dtm = count_vect.fit_transform(xtrain) \n",
    "    xtest_dtm  = count_vect.transform(xtest)\n",
    "    print('\\nTotal features extracted using CountVectorizer:',xtrain_dtm.shape[1])\n",
    "    print('\\nFeatures for first 5 training instances are listed below')"
   ]
  },
  {
   "cell_type": "code",
   "execution_count": 17,
   "metadata": {},
   "outputs": [
    {
     "name": "stdout",
     "output_type": "stream",
     "text": [
      "    about  am  amazing  an  and  awesome  bad  beers  boss  dance  ...   \\\n",
      "0       0   0        0   0    0        0    0      0     0      1  ...    \n",
      "1       0   0        0   0    0        0    0      0     0      0  ...    \n",
      "2       0   0        0   0    0        0    0      0     0      0  ...    \n",
      "3       0   0        0   0    0        0    0      0     0      0  ...    \n",
      "4       0   0        0   0    0        0    1      0     0      0  ...    \n",
      "5       0   0        0   1    0        1    0      0     0      0  ...    \n",
      "6       0   1        0   0    1        0    0      0     0      0  ...    \n",
      "7       1   0        0   0    0        0    0      1     0      0  ...    \n",
      "8       0   0        0   0    0        0    0      0     0      0  ...    \n",
      "9       0   0        0   0    0        0    0      0     1      0  ...    \n",
      "10      0   0        0   1    0        1    0      0     0      0  ...    \n",
      "11      0   0        1   1    0        0    0      0     0      0  ...    \n",
      "12      0   1        0   0    0        0    0      0     0      0  ...    \n",
      "\n",
      "    tired  to  today  tomorrow  very  view  we  went  what  will  \n",
      "0       0   1      0         0     0     0   0     0     0     0  \n",
      "1       0   0      0         0     0     0   0     0     1     0  \n",
      "2       0   0      0         1     0     0   1     0     0     1  \n",
      "3       0   1      1         0     0     0   0     1     0     0  \n",
      "4       0   1      0         0     0     0   0     0     0     0  \n",
      "5       0   0      0         0     0     1   0     0     1     0  \n",
      "6       1   0      0         0     0     0   0     0     0     0  \n",
      "7       0   0      0         0     1     0   0     0     0     0  \n",
      "8       0   0      0         0     0     0   0     0     0     0  \n",
      "9       0   0      0         0     0     0   0     0     0     0  \n",
      "10      0   0      0         0     0     0   0     0     0     0  \n",
      "11      0   0      0         0     0     0   0     0     0     0  \n",
      "12      1   0      0         0     0     0   0     0     0     0  \n",
      "\n",
      "[13 rows x 43 columns]\n"
     ]
    }
   ],
   "source": [
    "    df=pd.DataFrame(xtrain_dtm.toarray(),columns=count_vect.get_feature_names())\n",
    "    print(df[0:])"
   ]
  },
  {
   "cell_type": "code",
   "execution_count": null,
   "metadata": {},
   "outputs": [],
   "source": [
    "    clf = MultinomialNB().fit(xtrain_dtm,ytrain)\n",
    "    predicted = clf.predict(xtest_dtm)\n",
    "    print('\\nClassstification results of testing samples are given below') "
   ]
  },
  {
   "cell_type": "code",
   "execution_count": null,
   "metadata": {},
   "outputs": [],
   "source": [
    "    for doc, p in zip(xtest, predicted):\n",
    "       pred = 'pos' if p==1 else 'neg'\n",
    "       print('%s -> %s ' % (doc, pred))"
   ]
  },
  {
   "cell_type": "code",
   "execution_count": null,
   "metadata": {},
   "outputs": [],
   "source": [
    "    \n",
    "    print('\\nAccuracy metrics')\n",
    "    print('Accuracy of the classifer is',metrics.accuracy_score(ytest,predicted))\n",
    "    print('Recall   :',metrics.recall_score(ytest,predicted),\n",
    "             '\\nPrecison :',metrics.precision_score(ytest,predicted))\n",
    "    print('Confusion matrix')\n",
    "    print(metrics.confusion_matrix(ytest,predicted))"
   ]
  },
  {
   "cell_type": "code",
   "execution_count": null,
   "metadata": {},
   "outputs": [],
   "source": []
  }
 ],
 "metadata": {
  "kernelspec": {
   "display_name": "Python 3",
   "language": "python",
   "name": "python3"
  },
  "language_info": {
   "codemirror_mode": {
    "name": "ipython",
    "version": 3
   },
   "file_extension": ".py",
   "mimetype": "text/x-python",
   "name": "python",
   "nbconvert_exporter": "python",
   "pygments_lexer": "ipython3",
   "version": "3.5.6"
  }
 },
 "nbformat": 4,
 "nbformat_minor": 2
}
