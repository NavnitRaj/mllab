{
 "cells": [
  {
   "cell_type": "code",
   "execution_count": null,
   "metadata": {},
   "outputs": [],
   "source": [
    "import pandas as pd"
   ]
  },
  {
   "cell_type": "code",
   "execution_count": null,
   "metadata": {
    "scrolled": false
   },
   "outputs": [],
   "source": [
    "data=pd.read_csv(\"train2.csv\",header=None)"
   ]
  },
  {
   "cell_type": "code",
   "execution_count": null,
   "metadata": {},
   "outputs": [],
   "source": [
    "train=data.sample(frac=0.5,random_state=None)"
   ]
  },
  {
   "cell_type": "code",
   "execution_count": null,
   "metadata": {},
   "outputs": [],
   "source": [
    "test=data.drop(train.index)\n",
    "print(test)"
   ]
  },
  {
   "cell_type": "code",
   "execution_count": null,
   "metadata": {},
   "outputs": [],
   "source": [
    "l=len(train.columns)\n",
    "l=l-1 #because we are not taking the last column\n",
    "h=pd.Series(['-']*l)\n"
   ]
  },
  {
   "cell_type": "code",
   "execution_count": null,
   "metadata": {},
   "outputs": [],
   "source": [
    "\n",
    "for (i,r) in train.iterrows():\n",
    "    print(r)\n",
    "    if r.iloc[-1] == 1:\n",
    "        for j in range(l):\n",
    "            if h.iloc[j] == r.iloc[j]:\n",
    "                continue\n",
    "            else:\n",
    "                if (h.iloc[j]=='-'):\n",
    "                    h.iloc[j]=r.iloc[j]\n",
    "                else:\n",
    "                    h.iloc[j]='?'"
   ]
  },
  {
   "cell_type": "code",
   "execution_count": null,
   "metadata": {},
   "outputs": [],
   "source": [
    "#to test the data\n",
    "def testh(h,sample):\n",
    "    index=h!='?' #whatever values are not '?' are taken into h\n",
    "    if (h[index]==sample[index]).all(): \n",
    "        return 1\n",
    "    else:\n",
    "        return 0"
   ]
  },
  {
   "cell_type": "code",
   "execution_count": null,
   "metadata": {},
   "outputs": [],
   "source": [
    "#determines accuracy\n",
    "def ac(testset):\n",
    "    a=0\n",
    "    for (i,r) in testset.iterrows():\n",
    "        t=testh(h,r.iloc[:-1])\n",
    "        if t==r.iloc[-1]:\n",
    "            a=a+1\n",
    "        print(\"\\n Test: \",list(r))\n",
    "        print(\"Predicted: \",t,\"\\tActual: \",r.iloc[-1])\n",
    "        \n",
    "    return (a/len(testset))*100"
   ]
  },
  {
   "cell_type": "code",
   "execution_count": null,
   "metadata": {},
   "outputs": [],
   "source": [
    "print(\"Accuracy = \",ac(test),\"%\")"
   ]
  }
 ],
 "metadata": {
  "kernelspec": {
   "display_name": "Python 3",
   "language": "python",
   "name": "python3"
  },
  "language_info": {
   "codemirror_mode": {
    "name": "ipython",
    "version": 3
   },
   "file_extension": ".py",
   "mimetype": "text/x-python",
   "name": "python",
   "nbconvert_exporter": "python",
   "pygments_lexer": "ipython3",
   "version": "3.5.6"
  }
 },
 "nbformat": 4,
 "nbformat_minor": 2
}
